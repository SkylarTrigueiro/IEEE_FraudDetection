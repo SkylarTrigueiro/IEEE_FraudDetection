{
 "cells": [
  {
   "cell_type": "code",
   "execution_count": null,
   "metadata": {},
   "outputs": [],
   "source": [
    "import config\n",
    "import sys\n",
    "import pandas as pd\n",
    "import features as ft\n",
    "import feat_selection as fs\n",
    "from data_management import load_data\n",
    "from sklearn.model_selection import train_test_split\n",
    "import preprocessor as pp\n",
    "import seaborn as sns\n",
    "import matplotlib.pyplot as plt\n",
    "from scipy import stats\n",
    "import numpy as np\n",
    "\n"
   ]
  },
  {
   "cell_type": "code",
   "execution_count": null,
   "metadata": {},
   "outputs": [],
   "source": [
    "train, submission = load_data()\n",
    "print('data has been loaded')"
   ]
  },
  {
   "cell_type": "code",
   "execution_count": null,
   "metadata": {},
   "outputs": [],
   "source": [
    "TARGET = ['isFraud']\n",
    "FEATURES = train.columns\n",
    "FEATURES.drop(TARGET)\n",
    "\n",
    "print('features and target have been separated')"
   ]
  },
  {
   "cell_type": "code",
   "execution_count": null,
   "metadata": {},
   "outputs": [],
   "source": [
    "FEATURES, TARGET"
   ]
  },
  {
   "cell_type": "code",
   "execution_count": null,
   "metadata": {},
   "outputs": [],
   "source": [
    "X_train, X_test, y_train, y_test = train_test_split( train[FEATURES], train[TARGET], test_size = 0.2, random_state = config.RANDOM_STATE )\n",
    "print('train and test sets have been made.')"
   ]
  },
  {
   "cell_type": "code",
   "execution_count": null,
   "metadata": {},
   "outputs": [],
   "source": [
    "X_train, X_test, submission = pp.preprocessor( X_train, X_test, submission )\n",
    "print('New features have been added.')"
   ]
  },
  {
   "cell_type": "code",
   "execution_count": null,
   "metadata": {},
   "outputs": [],
   "source": [
    "NUMERIC, NUMERIC_NA, CATEG, CATEG_NA, DISCRETE, DISCRETE_NA = ft.partition_features( X_train, X_test, submission )\n",
    "print('features have been partitioned again')"
   ]
  },
  {
   "cell_type": "code",
   "execution_count": null,
   "metadata": {},
   "outputs": [],
   "source": [
    "X_train[CATEG] = X_train[CATEG].astype('O')\n",
    "X_test[CATEG] = X_test[CATEG].astype('O')\n",
    "submission[CATEG] = submission[CATEG].astype('O')\n",
    "    \n",
    "X_train[DISCRETE] = X_train[DISCRETE].astype('O')\n",
    "X_test[DISCRETE] = X_test[DISCRETE].astype('O')\n",
    "submission[DISCRETE] = submission[DISCRETE].astype('O')"
   ]
  },
  {
   "cell_type": "code",
   "execution_count": null,
   "metadata": {},
   "outputs": [],
   "source": [
    "#Categorical Features:\n",
    "#ProductCD\n",
    "#card1 - card6\n",
    "#addr1, addr2\n",
    "#Pemaildomain Remaildomain\n",
    "#M1 - M9"
   ]
  },
  {
   "cell_type": "code",
   "execution_count": null,
   "metadata": {},
   "outputs": [],
   "source": [
    "#plot to show missing values in categorical data\n",
    "\n",
    "def resumetable(df):\n",
    "    print(f\"Dataset Shape: {df.shape}\")\n",
    "    summary = pd.DataFrame(df.dtypes,columns=['dtypes'])\n",
    "    summary = summary.reset_index()\n",
    "    summary['Name'] = summary['index']\n",
    "    summary = summary[['Name','dtypes']]\n",
    "    summary['% Missing'] = 100*round(df.isnull().sum()/len(df),3).values    \n",
    "    summary['Uniques'] = df.nunique().values\n",
    "\n",
    "    for name in summary['Name'].value_counts().index:\n",
    "        summary.loc[summary['Name'] == name, 'Entropy'] = round(stats.entropy(df[name].value_counts(normalize=True), base=2),2) \n",
    "\n",
    "    return summary"
   ]
  },
  {
   "cell_type": "code",
   "execution_count": null,
   "metadata": {
    "scrolled": false
   },
   "outputs": [],
   "source": [
    "resumetable(X_train[CATEG])"
   ]
  },
  {
   "cell_type": "code",
   "execution_count": null,
   "metadata": {},
   "outputs": [],
   "source": [
    "tmp = pd.crosstab(train['card4'], train['isFraud'], normalize='index') * 100\n",
    "tmp = tmp.reset_index()\n",
    "tmp.rename(columns={0:'NoFraud', 1:'Fraud'}, inplace=True)\n",
    "\n",
    "plt.figure(figsize=(14,10))\n",
    "plt.suptitle('Card 4 Distributions', fontsize=22)\n",
    "\n",
    "plt.subplot(221)\n",
    "g = sns.countplot(x='card4', data=train)\n",
    "# plt.legend(title='Fraud', loc='upper center', labels=['No', 'Yes'])\n",
    "g.set_title(\"Card4 Distribution\", fontsize=19)\n",
    "g.set_ylim(0,420000)\n",
    "g.set_xlabel(\"Card4 Category Names\", fontsize=17)\n",
    "g.set_ylabel(\"Count\", fontsize=17)\n",
    "for p in g.patches:\n",
    "    height = p.get_height()\n",
    "    g.text(p.get_x()+p.get_width()/2.,\n",
    "            height + 3,\n",
    "            '{:1.2f}%'.format(height/len(train)*100),\n",
    "            ha=\"center\",fontsize=14) \n",
    "\n",
    "\n",
    "plt.subplot(222)\n",
    "g1 = sns.countplot(x='card4', hue='isFraud', data=train)\n",
    "plt.legend(title='Fraud', loc='best', labels=['No', 'Yes'])\n",
    "gt = g1.twinx()\n",
    "gt = sns.pointplot(x='card4', y='Fraud', data=tmp, \n",
    "                   color='black', legend=False, \n",
    "                   order=['discover', 'mastercard', 'visa', 'american express'])\n",
    "gt.set_ylabel(\"% of Fraud Transactions\", fontsize=16)\n",
    "g1.set_title(\"Card4 by Target(isFraud)\", fontsize=19)\n",
    "g1.set_xlabel(\"Card4 Category Names\", fontsize=17)\n",
    "g1.set_ylabel(\"Count\", fontsize=17)\n",
    "\n",
    "plt.subplot(212)\n",
    "g3 = sns.boxenplot(x='card4', y='TransactionAmt', hue='isFraud', \n",
    "              data=train[train['TransactionAmt'] <= 2000] )\n",
    "g3.set_title(\"Card 4 Distribuition by ProductCD and Target\", fontsize=20)\n",
    "g3.set_xlabel(\"Card4 Category Names\", fontsize=17)\n",
    "g3.set_ylabel(\"Transaction Values\", fontsize=17)\n",
    "\n",
    "plt.subplots_adjust(hspace = 0.6, top = 0.85)\n",
    "\n",
    "plt.show()"
   ]
  },
  {
   "cell_type": "code",
   "execution_count": null,
   "metadata": {
    "scrolled": false
   },
   "outputs": [],
   "source": [
    "tmp = pd.crosstab(train['card4'], train['isFraud'], normalize='index') * 100\n",
    "tmp = tmp.reset_index()\n",
    "tmp.rename(columns={0:'NoFraud', 1:'Fraud'}, inplace=True)\n",
    "\n",
    "plt.figure(figsize=(14,10))\n",
    "plt.suptitle('Card 4 Distributions', fontsize=22)\n",
    "\n",
    "plt.subplot(221)\n",
    "g = sns.countplot(x='card4', data=train)\n",
    "# plt.legend(title='Fraud', loc='upper center', labels=['No', 'Yes'])\n",
    "g.set_title(\"Card4 Distribution\", fontsize=19)\n",
    "g.set_ylim(0,420000)\n",
    "g.set_xlabel(\"Card4 Category Names\", fontsize=17)\n",
    "g.set_ylabel(\"Count\", fontsize=17)\n",
    "for p in g.patches:\n",
    "    height = p.get_height()\n",
    "    g.text(p.get_x()+p.get_width()/2.,\n",
    "            height + 3,\n",
    "            '{:1.2f}%'.format(height/len(train)*100),\n",
    "            ha=\"center\",fontsize=14) \n",
    "\n",
    "\n",
    "plt.subplot(222)\n",
    "g1 = sns.countplot(x='card4', hue='isFraud', data=train)\n",
    "plt.legend(title='Fraud', loc='best', labels=['No', 'Yes'])\n",
    "gt = g1.twinx()\n",
    "gt = sns.pointplot(x='card4', y='Fraud', data=tmp, \n",
    "                   color='black', legend=False, \n",
    "                   order=['discover', 'mastercard', 'visa', 'american express'])\n",
    "gt.set_ylabel(\"% of Fraud Transactions\", fontsize=16)\n",
    "g1.set_title(\"Card4 by Target(isFraud)\", fontsize=19)\n",
    "g1.set_xlabel(\"Card4 Category Names\", fontsize=17)\n",
    "g1.set_ylabel(\"Count\", fontsize=17)\n",
    "\n",
    "plt.subplot(212)\n",
    "g3 = sns.boxenplot(x='card4', y='TransactionAmt', hue='isFraud', \n",
    "              data=train[train['TransactionAmt'] <= 2000] )\n",
    "g3.set_title(\"Card 4 Distribuition by ProductCD and Target\", fontsize=20)\n",
    "g3.set_xlabel(\"Card4 Category Names\", fontsize=17)\n",
    "g3.set_ylabel(\"Transaction Values\", fontsize=17)\n",
    "\n",
    "plt.subplots_adjust(hspace = 0.6, top = 0.85)\n",
    "\n",
    "plt.show()"
   ]
  },
  {
   "cell_type": "code",
   "execution_count": null,
   "metadata": {},
   "outputs": [],
   "source": [
    "tmp = pd.crosstab(train['card4'], train['isFraud'], normalize='index') * 100\n",
    "tmp = tmp.reset_index()\n",
    "tmp.rename(columns={0:'NoFraud', 1:'Fraud'}, inplace=True)\n",
    "\n",
    "plt.figure(figsize=(14,10))\n",
    "plt.suptitle('Card 4 Distributions', fontsize=22)\n",
    "\n",
    "plt.subplot(221)\n",
    "g = sns.countplot(x='card4', data=train)\n",
    "# plt.legend(title='Fraud', loc='upper center', labels=['No', 'Yes'])\n",
    "g.set_title(\"Card4 Distribution\", fontsize=19)\n",
    "g.set_ylim(0,420000)\n",
    "g.set_xlabel(\"Card4 Category Names\", fontsize=17)\n",
    "g.set_ylabel(\"Count\", fontsize=17)\n",
    "for p in g.patches:\n",
    "    height = p.get_height()\n",
    "    g.text(p.get_x()+p.get_width()/2.,\n",
    "            height + 3,\n",
    "            '{:1.2f}%'.format(height/len(train)*100),\n",
    "            ha=\"center\",fontsize=14) \n",
    "\n",
    "\n",
    "plt.subplot(222)\n",
    "g1 = sns.countplot(x='card4', hue='isFraud', data=train)\n",
    "plt.legend(title='Fraud', loc='best', labels=['No', 'Yes'])\n",
    "gt = g1.twinx()\n",
    "gt = sns.pointplot(x='card4', y='Fraud', data=tmp, \n",
    "                   color='black', legend=False, \n",
    "                   order=['discover', 'mastercard', 'visa', 'american express'])\n",
    "gt.set_ylabel(\"% of Fraud Transactions\", fontsize=16)\n",
    "g1.set_title(\"Card4 by Target(isFraud)\", fontsize=19)\n",
    "g1.set_xlabel(\"Card4 Category Names\", fontsize=17)\n",
    "g1.set_ylabel(\"Count\", fontsize=17)\n",
    "\n",
    "plt.subplot(212)\n",
    "g3 = sns.boxenplot(x='card4', y='TransactionAmt', hue='isFraud', \n",
    "              data=train[train['TransactionAmt'] <= 2000] )\n",
    "g3.set_title(\"Card 4 Distribuition by ProductCD and Target\", fontsize=20)\n",
    "g3.set_xlabel(\"Card4 Category Names\", fontsize=17)\n",
    "g3.set_ylabel(\"Transaction Values\", fontsize=17)\n",
    "\n",
    "plt.subplots_adjust(hspace = 0.6, top = 0.85)\n",
    "\n",
    "plt.show()"
   ]
  }
 ],
 "metadata": {
  "kernelspec": {
   "display_name": "Python 3",
   "language": "python",
   "name": "python3"
  },
  "language_info": {
   "codemirror_mode": {
    "name": "ipython",
    "version": 3
   },
   "file_extension": ".py",
   "mimetype": "text/x-python",
   "name": "python",
   "nbconvert_exporter": "python",
   "pygments_lexer": "ipython3",
   "version": "3.7.4"
  }
 },
 "nbformat": 4,
 "nbformat_minor": 2
}
